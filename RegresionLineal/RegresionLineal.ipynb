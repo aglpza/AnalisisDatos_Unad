{
 "cells": [
  {
   "cell_type": "markdown",
   "id": "ca4b29e3-f808-4c83-9e72-4c9e7543e796",
   "metadata": {},
   "source": [
    "# Regresión Lineal\n",
    "_Andrés G. López A. Análisis de Datos 202016908 Grupo 64_"
   ]
  },
  {
   "cell_type": "code",
   "execution_count": 2,
   "id": "50701c0d-1ba6-43fe-8f25-8a0aa17e0273",
   "metadata": {
    "tags": []
   },
   "outputs": [],
   "source": [
    "import pandas as pd\n",
    "\n",
    "# Carga datos CSV\n",
    "data = pd.read_csv('car details v4.csv')"
   ]
  },
  {
   "cell_type": "code",
   "execution_count": 3,
   "id": "96f6521e-4253-4498-a43c-6961595997c7",
   "metadata": {
    "tags": []
   },
   "outputs": [
    {
     "name": "stdout",
     "output_type": "stream",
     "text": [
      "            Make                            Model    Price  Year  Kilometer  \\\n",
      "0          Honda              Amaze 1.2 VX i-VTEC   505000  2017      87150   \n",
      "1  Maruti Suzuki                  Swift DZire VDI   450000  2014      75000   \n",
      "2        Hyundai             i10 Magna 1.2 Kappa2   220000  2011      67000   \n",
      "3         Toyota                         Glanza G   799000  2019      37500   \n",
      "4         Toyota  Innova 2.4 VX 7 STR [2016-2020]  1950000  2018      69000   \n",
      "\n",
      "  Fuel Type Transmission   Location   Color   Owner Seller Type   Engine  \\\n",
      "0    Petrol       Manual       Pune    Grey   First   Corporate  1198 cc   \n",
      "1    Diesel       Manual   Ludhiana   White  Second  Individual  1248 cc   \n",
      "2    Petrol       Manual    Lucknow  Maroon   First  Individual  1197 cc   \n",
      "3    Petrol       Manual  Mangalore     Red   First  Individual  1197 cc   \n",
      "4    Diesel       Manual     Mumbai    Grey   First  Individual  2393 cc   \n",
      "\n",
      "            Max Power              Max Torque Drivetrain  Length   Width  \\\n",
      "0   87 bhp @ 6000 rpm       109 Nm @ 4500 rpm        FWD  3990.0  1680.0   \n",
      "1   74 bhp @ 4000 rpm       190 Nm @ 2000 rpm        FWD  3995.0  1695.0   \n",
      "2   79 bhp @ 6000 rpm  112.7619 Nm @ 4000 rpm        FWD  3585.0  1595.0   \n",
      "3   82 bhp @ 6000 rpm       113 Nm @ 4200 rpm        FWD  3995.0  1745.0   \n",
      "4  148 bhp @ 3400 rpm       343 Nm @ 1400 rpm        RWD  4735.0  1830.0   \n",
      "\n",
      "   Height  Seating Capacity  Fuel Tank Capacity  \n",
      "0  1505.0               5.0                35.0  \n",
      "1  1555.0               5.0                42.0  \n",
      "2  1550.0               5.0                35.0  \n",
      "3  1510.0               5.0                37.0  \n",
      "4  1795.0               7.0                55.0  \n",
      "<class 'pandas.core.frame.DataFrame'>\n",
      "RangeIndex: 2059 entries, 0 to 2058\n",
      "Data columns (total 20 columns):\n",
      " #   Column              Non-Null Count  Dtype  \n",
      "---  ------              --------------  -----  \n",
      " 0   Make                2059 non-null   object \n",
      " 1   Model               2059 non-null   object \n",
      " 2   Price               2059 non-null   int64  \n",
      " 3   Year                2059 non-null   int64  \n",
      " 4   Kilometer           2059 non-null   int64  \n",
      " 5   Fuel Type           2059 non-null   object \n",
      " 6   Transmission        2059 non-null   object \n",
      " 7   Location            2059 non-null   object \n",
      " 8   Color               2059 non-null   object \n",
      " 9   Owner               2059 non-null   object \n",
      " 10  Seller Type         2059 non-null   object \n",
      " 11  Engine              1979 non-null   object \n",
      " 12  Max Power           1979 non-null   object \n",
      " 13  Max Torque          1979 non-null   object \n",
      " 14  Drivetrain          1923 non-null   object \n",
      " 15  Length              1995 non-null   float64\n",
      " 16  Width               1995 non-null   float64\n",
      " 17  Height              1995 non-null   float64\n",
      " 18  Seating Capacity    1995 non-null   float64\n",
      " 19  Fuel Tank Capacity  1946 non-null   float64\n",
      "dtypes: float64(5), int64(3), object(12)\n",
      "memory usage: 321.8+ KB\n",
      "None\n",
      "              Price         Year     Kilometer       Length        Width  \\\n",
      "count  2.059000e+03  2059.000000  2.059000e+03  1995.000000  1995.000000   \n",
      "mean   1.702992e+06  2016.425449  5.422471e+04  4280.860652  1767.991980   \n",
      "std    2.419881e+06     3.363564  5.736172e+04   442.458507   135.265825   \n",
      "min    4.900000e+04  1988.000000  0.000000e+00  3099.000000  1475.000000   \n",
      "25%    4.849990e+05  2014.000000  2.900000e+04  3985.000000  1695.000000   \n",
      "50%    8.250000e+05  2017.000000  5.000000e+04  4370.000000  1770.000000   \n",
      "75%    1.925000e+06  2019.000000  7.200000e+04  4629.000000  1831.500000   \n",
      "max    3.500000e+07  2022.000000  2.000000e+06  5569.000000  2220.000000   \n",
      "\n",
      "            Height  Seating Capacity  Fuel Tank Capacity  \n",
      "count  1995.000000       1995.000000         1946.000000  \n",
      "mean   1591.735338          5.306266           52.002210  \n",
      "std     136.073956          0.822170           15.110198  \n",
      "min    1165.000000          2.000000           15.000000  \n",
      "25%    1485.000000          5.000000           41.250000  \n",
      "50%    1545.000000          5.000000           50.000000  \n",
      "75%    1675.000000          5.000000           60.000000  \n",
      "max    1995.000000          8.000000          105.000000  \n",
      "Make                    0\n",
      "Model                   0\n",
      "Price                   0\n",
      "Year                    0\n",
      "Kilometer               0\n",
      "Fuel Type               0\n",
      "Transmission            0\n",
      "Location                0\n",
      "Color                   0\n",
      "Owner                   0\n",
      "Seller Type             0\n",
      "Engine                 80\n",
      "Max Power              80\n",
      "Max Torque             80\n",
      "Drivetrain            136\n",
      "Length                 64\n",
      "Width                  64\n",
      "Height                 64\n",
      "Seating Capacity       64\n",
      "Fuel Tank Capacity    113\n",
      "dtype: int64\n"
     ]
    }
   ],
   "source": [
    "# Vista registros del DataFrame primeros\n",
    "print(data.head())\n",
    "\n",
    "# Información general sobre el DataFrame\n",
    "print(data.info())\n",
    "\n",
    "# Resumen estadístico de las variables numéricas\n",
    "print(data.describe())\n",
    "\n",
    "# Verificar valores nulos en el DataFrame\n",
    "print(data.isnull().sum())"
   ]
  },
  {
   "cell_type": "code",
   "execution_count": 6,
   "id": "c2b65bee-a890-482b-a1f2-bb33f2d7748f",
   "metadata": {
    "tags": []
   },
   "outputs": [],
   "source": [
    "# Valores faltantes, si los hay\n",
    "data.dropna(inplace=True)\n",
    "\n",
    "data_encoded = pd.get_dummies(data, columns=['Fuel Type', 'Seller Type', 'Transmission'])\n"
   ]
  },
  {
   "cell_type": "code",
   "execution_count": 11,
   "id": "b8b26580-324b-4cd5-b08c-e001d1b9ad82",
   "metadata": {
    "tags": []
   },
   "outputs": [],
   "source": [
    "# Dividir los datos en características (X) y variable objetivo (y)\n",
    "X = data[['Year', 'Kilometer', 'Fuel Type', 'Transmission', 'Owner', 'Seller Type', 'Engine', 'Max Power', 'Max Torque', 'Drivetrain', 'Length', 'Width', 'Height', 'Seating Capacity', 'Fuel Tank Capacity']]\n",
    "y = data_encoded['Price']\n"
   ]
  },
  {
   "cell_type": "code",
   "execution_count": 13,
   "id": "506d952f-35c7-42e6-9cda-c9e432932a33",
   "metadata": {
    "tags": []
   },
   "outputs": [
    {
     "data": {
      "text/html": [
       "<style>#sk-container-id-1 {color: black;}#sk-container-id-1 pre{padding: 0;}#sk-container-id-1 div.sk-toggleable {background-color: white;}#sk-container-id-1 label.sk-toggleable__label {cursor: pointer;display: block;width: 100%;margin-bottom: 0;padding: 0.3em;box-sizing: border-box;text-align: center;}#sk-container-id-1 label.sk-toggleable__label-arrow:before {content: \"▸\";float: left;margin-right: 0.25em;color: #696969;}#sk-container-id-1 label.sk-toggleable__label-arrow:hover:before {color: black;}#sk-container-id-1 div.sk-estimator:hover label.sk-toggleable__label-arrow:before {color: black;}#sk-container-id-1 div.sk-toggleable__content {max-height: 0;max-width: 0;overflow: hidden;text-align: left;background-color: #f0f8ff;}#sk-container-id-1 div.sk-toggleable__content pre {margin: 0.2em;color: black;border-radius: 0.25em;background-color: #f0f8ff;}#sk-container-id-1 input.sk-toggleable__control:checked~div.sk-toggleable__content {max-height: 200px;max-width: 100%;overflow: auto;}#sk-container-id-1 input.sk-toggleable__control:checked~label.sk-toggleable__label-arrow:before {content: \"▾\";}#sk-container-id-1 div.sk-estimator input.sk-toggleable__control:checked~label.sk-toggleable__label {background-color: #d4ebff;}#sk-container-id-1 div.sk-label input.sk-toggleable__control:checked~label.sk-toggleable__label {background-color: #d4ebff;}#sk-container-id-1 input.sk-hidden--visually {border: 0;clip: rect(1px 1px 1px 1px);clip: rect(1px, 1px, 1px, 1px);height: 1px;margin: -1px;overflow: hidden;padding: 0;position: absolute;width: 1px;}#sk-container-id-1 div.sk-estimator {font-family: monospace;background-color: #f0f8ff;border: 1px dotted black;border-radius: 0.25em;box-sizing: border-box;margin-bottom: 0.5em;}#sk-container-id-1 div.sk-estimator:hover {background-color: #d4ebff;}#sk-container-id-1 div.sk-parallel-item::after {content: \"\";width: 100%;border-bottom: 1px solid gray;flex-grow: 1;}#sk-container-id-1 div.sk-label:hover label.sk-toggleable__label {background-color: #d4ebff;}#sk-container-id-1 div.sk-serial::before {content: \"\";position: absolute;border-left: 1px solid gray;box-sizing: border-box;top: 0;bottom: 0;left: 50%;z-index: 0;}#sk-container-id-1 div.sk-serial {display: flex;flex-direction: column;align-items: center;background-color: white;padding-right: 0.2em;padding-left: 0.2em;position: relative;}#sk-container-id-1 div.sk-item {position: relative;z-index: 1;}#sk-container-id-1 div.sk-parallel {display: flex;align-items: stretch;justify-content: center;background-color: white;position: relative;}#sk-container-id-1 div.sk-item::before, #sk-container-id-1 div.sk-parallel-item::before {content: \"\";position: absolute;border-left: 1px solid gray;box-sizing: border-box;top: 0;bottom: 0;left: 50%;z-index: -1;}#sk-container-id-1 div.sk-parallel-item {display: flex;flex-direction: column;z-index: 1;position: relative;background-color: white;}#sk-container-id-1 div.sk-parallel-item:first-child::after {align-self: flex-end;width: 50%;}#sk-container-id-1 div.sk-parallel-item:last-child::after {align-self: flex-start;width: 50%;}#sk-container-id-1 div.sk-parallel-item:only-child::after {width: 0;}#sk-container-id-1 div.sk-dashed-wrapped {border: 1px dashed gray;margin: 0 0.4em 0.5em 0.4em;box-sizing: border-box;padding-bottom: 0.4em;background-color: white;}#sk-container-id-1 div.sk-label label {font-family: monospace;font-weight: bold;display: inline-block;line-height: 1.2em;}#sk-container-id-1 div.sk-label-container {text-align: center;}#sk-container-id-1 div.sk-container {/* jupyter's `normalize.less` sets `[hidden] { display: none; }` but bootstrap.min.css set `[hidden] { display: none !important; }` so we also need the `!important` here to be able to override the default hidden behavior on the sphinx rendered scikit-learn.org. See: https://github.com/scikit-learn/scikit-learn/issues/21755 */display: inline-block !important;position: relative;}#sk-container-id-1 div.sk-text-repr-fallback {display: none;}</style><div id=\"sk-container-id-1\" class=\"sk-top-container\"><div class=\"sk-text-repr-fallback\"><pre>LinearRegression()</pre><b>In a Jupyter environment, please rerun this cell to show the HTML representation or trust the notebook. <br />On GitHub, the HTML representation is unable to render, please try loading this page with nbviewer.org.</b></div><div class=\"sk-container\" hidden><div class=\"sk-item\"><div class=\"sk-estimator sk-toggleable\"><input class=\"sk-toggleable__control sk-hidden--visually\" id=\"sk-estimator-id-1\" type=\"checkbox\" checked><label for=\"sk-estimator-id-1\" class=\"sk-toggleable__label sk-toggleable__label-arrow\">LinearRegression</label><div class=\"sk-toggleable__content\"><pre>LinearRegression()</pre></div></div></div></div></div>"
      ],
      "text/plain": [
       "LinearRegression()"
      ]
     },
     "execution_count": 13,
     "metadata": {},
     "output_type": "execute_result"
    }
   ],
   "source": [
    "from sklearn.model_selection import train_test_split\n",
    "from sklearn.linear_model import LinearRegression\n",
    "from sklearn.metrics import mean_squared_error, r2_score\n",
    "\n",
    "# Codificar variables categóricas si es necesario\n",
    "X_encoded = pd.get_dummies(X)\n",
    "\n",
    "# Dividir los datos en conjuntos de entrenamiento y prueba\n",
    "X_train, X_test, y_train, y_test = train_test_split(X_encoded, y, test_size=0.2, random_state=42)\n",
    "\n",
    "# Inicializar y entrenar el modelo de regresión lineal\n",
    "model = LinearRegression()\n",
    "model.fit(X_train, y_train)"
   ]
  },
  {
   "cell_type": "code",
   "execution_count": 14,
   "id": "31a32265-4deb-4483-a5f0-b029f86ea40b",
   "metadata": {
    "tags": []
   },
   "outputs": [],
   "source": [
    "predictions = model.predict(X_test)"
   ]
  },
  {
   "cell_type": "code",
   "execution_count": 15,
   "id": "cc496a86-4ada-46b5-8162-1dd816f1b4eb",
   "metadata": {
    "tags": []
   },
   "outputs": [
    {
     "name": "stdout",
     "output_type": "stream",
     "text": [
      "Mean Squared Error: 9.665473526977635e+21\n",
      "R^2 Score: -825643691.521287\n"
     ]
    }
   ],
   "source": [
    "# Calcular métricas de evaluación\n",
    "mse = mean_squared_error(y_test, predictions)\n",
    "r2 = r2_score(y_test, predictions)\n",
    "print('Mean Squared Error:', mse)\n",
    "print('R^2 Score:', r2)"
   ]
  },
  {
   "cell_type": "code",
   "execution_count": 16,
   "id": "2a7fbb26-e238-469d-8250-2858b5c0c9bf",
   "metadata": {
    "tags": []
   },
   "outputs": [
    {
     "data": {
      "image/png": "[encoded data removed]",
      "text/plain": [
       "<Figure size 640x480 with 1 Axes>"
      ]
     },
     "metadata": {},
     "output_type": "display_data"
    }
   ],
   "source": [
    "import matplotlib.pyplot as plt\n",
    "\n",
    "# Crear una figura y un eje\n",
    "fig, ax = plt.subplots()\n",
    "\n",
    "# Graficar los datos de prueba\n",
    "ax.scatter(y_test, predictions, color='blue', label='Datos de prueba')\n",
    "\n",
    "# Graficar la línea de regresión lineal\n",
    "ax.plot([min(y_test), max(y_test)], [min(y_test), max(y_test)], color='red', linestyle='--', label='Regresión lineal')\n",
    "\n",
    "# Etiquetas y título\n",
    "ax.set_xlabel('Precio real')\n",
    "ax.set_ylabel('Precio predicho')\n",
    "ax.set_title('Regresión lineal: Precio real vs. Precio predicho')\n",
    "\n",
    "# Leyenda\n",
    "ax.legend()\n",
    "# Mostrar la gráfica\n",
    "plt.show()"
   ]
  },
  {
   "cell_type": "code",
   "execution_count": null,
   "id": "1d2f9e0f-5958-4d8f-8a6c-814da9afe809",
   "metadata": {},
   "outputs": [],
   "source": []
  }
 ],
 "metadata": {
  "kernelspec": {
   "display_name": "Python 3 (ipykernel)",
   "language": "python",
   "name": "python3"
  },
  "language_info": {
   "codemirror_mode": {
    "name": "ipython",
    "version": 3
   },
   "file_extension": ".py",
   "mimetype": "text/x-python",
   "name": "python",
   "nbconvert_exporter": "python",
   "pygments_lexer": "ipython3",
   "version": "3.11.4"
  }
 },
 "nbformat": 4,
 "nbformat_minor": 5
}
